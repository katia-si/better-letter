{
 "cells": [
  {
   "cell_type": "code",
   "execution_count": 31,
   "metadata": {},
   "outputs": [
    {
     "name": "stdout",
     "output_type": "stream",
     "text": [
      "Text from Ist-oder-soll.jpeg has been saved in: /Users/carstenvolland/code/katia-si/better-letter/raw_data/Ist-oder-soll.txt.\n",
      "Text from letter_arbeitsamt_internet.jpeg has been saved in: /Users/carstenvolland/code/katia-si/better-letter/raw_data/letter_arbeitsamt_internet.txt.\n"
     ]
    }
   ],
   "source": [
    "import os\n",
    "from PIL import Image\n",
    "import easyocr\n",
    "\n",
    "def process_images(image_directory, output_directory):\n",
    "    \"\"\"\n",
    "    Process all images in the specified directory using OCR and save the extracted text to text files.\n",
    "\n",
    "    Args:\n",
    "        image_directory (str): Path to the directory containing the image files.\n",
    "        output_directory (str): Path to the directory where the output text files will be saved.\n",
    "    \"\"\"\n",
    "    # Initialize the OCR reader\n",
    "    reader = easyocr.Reader(['de'])\n",
    "\n",
    "    # Loop through all files in the directory\n",
    "    for filename in os.listdir(image_directory):\n",
    "        # Check if the file is an image\n",
    "        if filename.endswith('.jpg') or filename.endswith('.jpeg') or filename.endswith('.png'):\n",
    "            # Construct the full path to the image file\n",
    "            image_path = os.path.join(image_directory, filename)\n",
    "\n",
    "            # Open the image for OCR\n",
    "            image = Image.open(image_path)\n",
    "\n",
    "            # Extract text from the image using easyocr\n",
    "            result = reader.readtext(image)\n",
    "\n",
    "            # Extracted text\n",
    "            text = '\\n'.join([entry[1] for entry in result])\n",
    "\n",
    "            # Define the output path to save the extracted text\n",
    "            output_path = os.path.join(output_directory, f'{os.path.splitext(filename)[0]}.txt')\n",
    "\n",
    "            # Save the extracted text to a text file\n",
    "            with open(output_path, 'w', encoding='utf-8') as file:\n",
    "                file.write(text)\n",
    "\n",
    "            # Print a message confirming the location where the text has been saved\n",
    "            print(f'Text from {filename} has been saved in: {output_path}.')\n",
    "\n",
    "# Define the path to the directory containing the image files\n",
    "image_directory = '/Users/carstenvolland/code/katia-si/better-letter/text_extractor/data_images/'\n",
    "\n",
    "# Define the path to the directory where the output text files will be saved\n",
    "output_directory = '/Users/carstenvolland/code/katia-si/better-letter/raw_data/'\n",
    "\n",
    "# Process images in the specified directory\n",
    "process_images(image_directory, output_directory)\n"
   ]
  },
  {
   "cell_type": "code",
   "execution_count": null,
   "metadata": {},
   "outputs": [],
   "source": []
  }
 ],
 "metadata": {
  "kernelspec": {
   "display_name": "Python 3 (ipykernel)",
   "language": "python",
   "name": "python3"
  },
  "language_info": {
   "codemirror_mode": {
    "name": "ipython",
    "version": 3
   },
   "file_extension": ".py",
   "mimetype": "text/x-python",
   "name": "python",
   "nbconvert_exporter": "python",
   "pygments_lexer": "ipython3",
   "version": "3.10.6"
  }
 },
 "nbformat": 4,
 "nbformat_minor": 4
}
